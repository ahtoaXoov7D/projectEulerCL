{
 "cells": [
  {
   "cell_type": "code",
   "execution_count": 23,
   "metadata": {},
   "outputs": [
    {
     "name": "stdout",
     "output_type": "stream",
     "text": [
      "1.11 s ± 12.5 ms per loop (mean ± std. dev. of 7 runs, 1 loop each)\n"
     ]
    }
   ],
   "source": [
    "def permutations(input):\n",
    "    \"\"\"Generate all the permutations of the characters of the given input\"\"\"\n",
    "    def permute(chars):\n",
    "        if len(chars) == 0:\n",
    "            return ''\n",
    "        if len(chars) == 1:\n",
    "            return chars[0]\n",
    "        bigset = set()\n",
    "        for index in range(len(chars)):\n",
    "            popped = chars[index]\n",
    "            copy = chars[:index] + chars[index + 1:]\n",
    "            subsets = permute(copy)\n",
    "            for subset in subsets:\n",
    "                bigset.update([subset[:i] + popped + subset[i:] for i in range(len(subset) + 1)])\n",
    "        return bigset\n",
    "\n",
    "    return permute(input)\n",
    "\n",
    "%timeit permutations('bbbbrrrrr')"
   ]
  },
  {
   "cell_type": "code",
   "execution_count": 15,
   "metadata": {},
   "outputs": [
    {
     "name": "stdout",
     "output_type": "stream",
     "text": [
      "acAb\n",
      "Acab\n",
      "cAba\n",
      "cabA\n",
      "Acba\n",
      "acbA\n",
      "cbaA\n",
      "baAc\n",
      "caAb\n",
      "aAcb\n",
      "bAac\n",
      "Aacb\n",
      "Abca\n",
      "Abac\n",
      "Aabc\n",
      "bAca\n",
      "cbAa\n",
      "aAbc\n",
      "cAab\n",
      "bcAa\n",
      "abAc\n",
      "bacA\n",
      "bcaA\n",
      "abcA\n",
      "dabc\n",
      "dcab\n",
      "bacd\n",
      "bcad\n",
      "cbda\n",
      "bdca\n",
      "acbd\n",
      "cadb\n",
      "cdba\n",
      "dcba\n",
      "abcd\n",
      "abdc\n",
      "adcb\n",
      "dbac\n",
      "dacb\n",
      "dbca\n",
      "cabd\n",
      "acdb\n",
      "cbad\n",
      "cdab\n",
      "badc\n",
      "bcda\n",
      "adbc\n",
      "bdac\n",
      "84.0\n"
     ]
    }
   ],
   "source": [
    "import itertools \n",
    "from math import factorial\n",
    "\n",
    "\n",
    "\n",
    "p = 0\n",
    "\n",
    "turns = 4\n",
    "turns_factorial = factorial(turns+1)\n",
    "for i in range(turns//2 + 1, turns + 1): \n",
    "    s = ''\n",
    "    for lower in range(i):\n",
    "        s += chr(ord('a')+lower)\n",
    "    for upper in range(turns-i):\n",
    "        s += chr(ord('A')+upper)\n",
    "    \n",
    "    perms = permutations(s)\n",
    "    \n",
    "    for perm in perms:\n",
    "        print(perm)\n",
    "        perm_p = turns_factorial\n",
    "        for index, disc in enumerate(perm):\n",
    "            if disc.islower():\n",
    "                perm_p *= 1/(index+2)\n",
    "            else:\n",
    "                perm_p *= (index+1)/(index+2)\n",
    "        p += perm_p\n",
    "\n",
    "print(p)"
   ]
  },
  {
   "cell_type": "code",
   "execution_count": 16,
   "metadata": {},
   "outputs": [
    {
     "name": "stdout",
     "output_type": "stream",
     "text": [
      "BBBBBBRRRR\n"
     ]
    },
    {
     "data": {
      "text/plain": [
       "{('B', 'B', 'B', 'B', 'B', 'B', 'B', 'B', 'B', 'B'),\n",
       " ('B', 'B', 'B', 'B', 'B', 'B', 'B', 'B', 'B', 'R'),\n",
       " ('B', 'B', 'B', 'B', 'B', 'B', 'B', 'B', 'R', 'R'),\n",
       " ('B', 'B', 'B', 'B', 'B', 'B', 'B', 'R', 'R', 'R'),\n",
       " ('B', 'B', 'B', 'B', 'B', 'B', 'R', 'R', 'R', 'R'),\n",
       " ('B', 'B', 'B', 'B', 'B', 'R', 'R', 'R', 'R', 'R'),\n",
       " ('B', 'B', 'B', 'B', 'R', 'R', 'R', 'R', 'R', 'R'),\n",
       " ('B', 'B', 'B', 'R', 'R', 'R', 'R', 'R', 'R', 'R'),\n",
       " ('B', 'B', 'R', 'R', 'R', 'R', 'R', 'R', 'R', 'R'),\n",
       " ('B', 'R', 'R', 'R', 'R', 'R', 'R', 'R', 'R', 'R'),\n",
       " ('R', 'R', 'R', 'R', 'R', 'R', 'R', 'R', 'R', 'R')}"
      ]
     },
     "execution_count": 16,
     "metadata": {},
     "output_type": "execute_result"
    }
   ],
   "source": [
    "from itertools import combinations \n",
    "from math import factorial\n",
    "\n",
    "p = 0\n",
    "\n",
    "\n",
    "\n",
    "turns = 10\n",
    "turns_factorial = factorial(turns+1)\n",
    "\n",
    "minimum = turns//2 + 1\n",
    "s =  minimum * 'B' + (turns - minimum) * 'R'\n",
    "print(s)\n",
    "base_perms = set(combinations(s, turns))\n",
    "base_perms\n"
   ]
  },
  {
   "cell_type": "code",
   "execution_count": 13,
   "metadata": {},
   "outputs": [
    {
     "name": "stdout",
     "output_type": "stream",
     "text": [
      "25.1 ms ± 661 µs per loop (mean ± std. dev. of 7 runs, 10 loops each)\n"
     ]
    }
   ],
   "source": [
    "\n",
    "def permutations(input):\n",
    "    \"\"\"Generate all the permutations of the characters of the given input\"\"\"\n",
    "    def permute(chars):\n",
    "        if len(chars) == 0:\n",
    "            return ''\n",
    "        if len(chars) == 1:\n",
    "            return chars[0]\n",
    "        biglist = []\n",
    "        for index in range(len(chars)):\n",
    "            popped = chars[index]\n",
    "            copy = chars[:index] + chars[index + 1:]\n",
    "            sublists = permute(copy)\n",
    "            for sublist in sublists:\n",
    "                biglist += [sublist[:i] + popped + sublist[i:] for i in range(len(sublist) + 1)]\n",
    "        return set(biglist)\n",
    "\n",
    "    return permute(input)\n",
    "\n",
    "\n",
    "import itertools\n",
    "%timeit set(itertools.permutations('bbbbrrrrr'))"
   ]
  },
  {
   "cell_type": "code",
   "execution_count": 20,
   "metadata": {},
   "outputs": [
    {
     "name": "stdout",
     "output_type": "stream",
     "text": [
      "177299.0\n"
     ]
    }
   ],
   "source": [
    "# THIS WORKS \n",
    "\n",
    "\n",
    "import itertools \n",
    "from math import factorial\n",
    "\n",
    "p = 0\n",
    "\n",
    "turns = 10\n",
    "turns_factorial = factorial(turns+1)\n",
    "for i in range(turns//2 + 1, turns + 1): \n",
    "    s = i * 'B' + (turns - i) * 'R'\n",
    "    # print(s)\n",
    "    perms = permutations(s)\n",
    "    \n",
    "    # perms = set(itertools.permutations(s))\n",
    "    \n",
    "    for perm in perms:\n",
    "    #    print(perm)\n",
    "        perm_p = turns_factorial\n",
    "        for index, disc in enumerate(perm):\n",
    "            if disc == 'B':\n",
    "                perm_p *= 1/(index+2)\n",
    "            else:\n",
    "                perm_p *= (index+1)/(index+2)\n",
    "        p += perm_p\n",
    "\n",
    "print(p)"
   ]
  },
  {
   "cell_type": "code",
   "execution_count": 24,
   "metadata": {},
   "outputs": [
    {
     "name": "stdout",
     "output_type": "stream",
     "text": [
      "536854528\n"
     ]
    }
   ],
   "source": [
    "x = 0\n",
    "for i in range(2 ** 15):\n",
    "    x += i \n",
    "print(x)"
   ]
  },
  {
   "cell_type": "code",
   "execution_count": null,
   "metadata": {},
   "outputs": [],
   "source": []
  }
 ],
 "metadata": {
  "kernelspec": {
   "display_name": "Python 3",
   "language": "python",
   "name": "python3"
  },
  "language_info": {
   "codemirror_mode": {
    "name": "ipython",
    "version": 3
   },
   "file_extension": ".py",
   "mimetype": "text/x-python",
   "name": "python",
   "nbconvert_exporter": "python",
   "pygments_lexer": "ipython3",
   "version": "3.7.3"
  }
 },
 "nbformat": 4,
 "nbformat_minor": 2
}
