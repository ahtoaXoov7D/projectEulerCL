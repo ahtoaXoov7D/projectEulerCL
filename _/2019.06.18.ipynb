{
 "cells": [
  {
   "cell_type": "code",
   "execution_count": 135,
   "metadata": {},
   "outputs": [],
   "source": [
    "# https://stackoverflow.com/a/3941967/62997\n",
    "# https://gist.github.com/mbarkhau/afad5ea4d3640d58df50251b449e49d7\n",
    "def mk_primes(limit):\n",
    "    a = [True] * limit                          # Initialize the primality list\n",
    "    a[0] = a[1] = False\n",
    "\n",
    "    for i, isprime in enumerate(a):\n",
    "        if isprime:\n",
    "            yield i\n",
    "            for n in range(i*i, limit, i):     # Mark factors non-prime\n",
    "                a[n] = False"
   ]
  },
  {
   "cell_type": "code",
   "execution_count": 136,
   "metadata": {},
   "outputs": [],
   "source": [
    "from math import sqrt\n",
    "from functools import lru_cache, reduce\n",
    "from collections import Counter\n",
    "from itertools import product\n",
    " \n",
    " \n",
    "MUL = int.__mul__\n",
    " \n",
    " \n",
    "def prime_factors(n):\n",
    "    'Map prime factors to their multiplicity for n'\n",
    "    d = _divs(n)\n",
    "    d = [] if d == [n] else (d[:-1] if d[-1] == d else d)\n",
    "    pf = Counter(d)\n",
    "    return dict(pf)\n",
    " \n",
    "@lru_cache(maxsize=None)\n",
    "def _divs(n):\n",
    "    'Memoized recursive function returning prime factors of n as a list'\n",
    "    for i in range(2, int(sqrt(n)+1)):\n",
    "        d, m  = divmod(n, i)\n",
    "        if not m:\n",
    "            return [i] + _divs(d)\n",
    "    return [n]\n",
    " \n",
    " \n",
    "def proper_divs(n):\n",
    "    '''Return the set of proper divisors of n.'''\n",
    "    pf = prime_factors(n)\n",
    "    pfactors, occurrences = pf.keys(), pf.values()\n",
    "    multiplicities = product(*(range(oc + 1) for oc in occurrences))\n",
    "    divs = {reduce(MUL, (pf**m for pf, m in zip(pfactors, multis)), 1)\n",
    "            for multis in multiplicities}\n",
    "    try:\n",
    "        divs.remove(n)\n",
    "    except KeyError:\n",
    "        pass\n",
    "    return divs or ({1} if n != 1 else set())\n",
    " "
   ]
  },
  {
   "cell_type": "code",
   "execution_count": 137,
   "metadata": {},
   "outputs": [
    {
     "name": "stdout",
     "output_type": "stream",
     "text": [
      "{1, 2, 10, 5} {1, 2, 4, 5, 10}\n",
      "20\n",
      "{1, 2, 14, 7} {1, 2, 4, 7, 14}\n",
      "28\n",
      "{1, 2, 3, 7, 14, 21} {1, 2, 3, 6, 7, 14, 21}\n",
      "42\n",
      "{1, 2, 11, 22} {1, 2, 4, 11, 22}\n",
      "44\n",
      "{1, 2, 26, 13} {1, 2, 4, 13, 26}\n",
      "52\n",
      "{1, 2, 3, 33, 11, 22} {1, 2, 3, 33, 6, 11, 22}\n",
      "66\n",
      "{1, 2, 34, 17} {1, 2, 34, 4, 17}\n",
      "68\n",
      "{1, 2, 19, 38} {1, 2, 4, 38, 19}\n",
      "76\n",
      "{1, 2, 3, 39, 13, 26} {1, 2, 3, 6, 39, 13, 26}\n",
      "78\n",
      "{1, 2, 11, 44, 22} {1, 2, 4, 8, 11, 44, 22}\n",
      "88\n",
      "{1, 2, 46, 23} {1, 2, 4, 46, 23}\n",
      "92\n",
      "{11, 1, 3, 33} {1, 33, 3, 9, 11}\n",
      "99\n"
     ]
    }
   ],
   "source": [
    "for i in range(100): \n",
    "    ours = proper_divisors(i)\n",
    "    theirs = proper_divs(i)\n",
    "    if ours != theirs: \n",
    "        print(ours, theirs)\n",
    "        print(i)"
   ]
  },
  {
   "cell_type": "markdown",
   "metadata": {},
   "source": [
    "### Non-abundant sums\n",
    "\n",
    "#### Problem 23\n",
    "\n",
    "\n",
    "\n",
    "A perfect number is a number for which the sum of its proper divisors is exactly equal to the number. For example, the sum of the proper divisors of 28 would be 1 + 2 + 4 + 7 + 14 = 28, which means that 28 is a perfect number.\n",
    "\n",
    "A number n is called deficient if the sum of its proper divisors is less than n and it is called abundant if this sum exceeds n.\n",
    "\n",
    "As 12 is the smallest abundant number, 1 + 2 + 3 + 4 + 6 = 16, the smallest number that can be written as the sum of two abundant numbers is 24. By mathematical analysis, it can be shown that all integers greater than 28123 can be written as the sum of two abundant numbers. However, this upper limit cannot be reduced any further by analysis even though it is known that the greatest number that cannot be expressed as the sum of two abundant numbers is less than this limit.\n",
    "\n",
    "Find the sum of all the positive integers which cannot be written as the sum of two abundant numbers.\n"
   ]
  },
  {
   "cell_type": "code",
   "execution_count": 138,
   "metadata": {},
   "outputs": [],
   "source": [
    "def is_abundant(n): \n",
    "    return n < sum(proper_divs(n))"
   ]
  },
  {
   "cell_type": "code",
   "execution_count": 139,
   "metadata": {},
   "outputs": [
    {
     "data": {
      "text/plain": [
       "{1, 2, 3, 6, 9}"
      ]
     },
     "execution_count": 139,
     "metadata": {},
     "output_type": "execute_result"
    }
   ],
   "source": [
    "prime_list = list(mk_primes(100))\n",
    "prime_list = list(mk_primes(100000))\n",
    "prime_set = set(prime_list)\n",
    "proper_divisors(18)"
   ]
  },
  {
   "cell_type": "code",
   "execution_count": 140,
   "metadata": {},
   "outputs": [
    {
     "data": {
      "text/plain": [
       "True"
      ]
     },
     "execution_count": 140,
     "metadata": {},
     "output_type": "execute_result"
    }
   ],
   "source": [
    "is_abundant(18)"
   ]
  },
  {
   "cell_type": "code",
   "execution_count": 141,
   "metadata": {},
   "outputs": [],
   "source": [
    "limit = 28123\n",
    "def abundant_numbers(limit):\n",
    "    return [n for n in range(1, limit + 1) if is_abundant(n)]"
   ]
  },
  {
   "cell_type": "code",
   "execution_count": 142,
   "metadata": {},
   "outputs": [],
   "source": [
    "from itertools import combinations_with_replacement\n",
    "\n",
    "def sum_of_abundand_numbers():\n",
    "    \n",
    "    abund_nums = abundant_numbers(2 * limit)\n",
    "    #new_limit = abund_nums[-1] * 2\n",
    "     \n",
    "    # print(new_limit)\n",
    "    \n",
    "    candidates = set(range(1, 2 * limit + 1))\n",
    "    \n",
    "    pair_sums = set([a+b for (a,b) in combinations_with_replacement(abund_nums, 2)])\n",
    "    #print(list(pairs)[:100])\n",
    "    x = candidates - pair_sums\n",
    "    #print(sorted(list(x)))\n",
    "    return sum(x)  "
   ]
  },
  {
   "cell_type": "code",
   "execution_count": 143,
   "metadata": {},
   "outputs": [
    {
     "data": {
      "text/plain": [
       "4179871"
      ]
     },
     "execution_count": 143,
     "metadata": {},
     "output_type": "execute_result"
    }
   ],
   "source": [
    "sum_of_abundand_numbers()"
   ]
  },
  {
   "cell_type": "code",
   "execution_count": 144,
   "metadata": {},
   "outputs": [],
   "source": [
    "def other_approach():\n",
    "    s = 0\n",
    "    candidates = set(range(1, limit + 1))\n",
    "    abund_nums = set(abundant_numbers(limit))\n",
    "    good_candidates = []\n",
    "    for candidate in candidates:\n",
    "        good_candidate = True \n",
    "        for an in abund_nums:\n",
    "            if (candidate - an) in abund_nums: \n",
    "                good_candidate = False\n",
    "                break \n",
    "        if good_candidate:\n",
    "            good_candidates += [candidate] \n",
    "    return sum(good_candidates)"
   ]
  },
  {
   "cell_type": "code",
   "execution_count": 145,
   "metadata": {},
   "outputs": [
    {
     "data": {
      "text/plain": [
       "4179871"
      ]
     },
     "execution_count": 145,
     "metadata": {},
     "output_type": "execute_result"
    }
   ],
   "source": [
    "other_approach()"
   ]
  },
  {
   "cell_type": "markdown",
   "metadata": {},
   "source": [
    "### Amicable numbers\n",
    "#### Problem 21\n",
    "\n",
    "\n",
    "\n",
    "Let d(n) be defined as the sum of proper divisors of n (numbers less than n which divide evenly into n).\n",
    "If d(a) = b and d(b) = a, where a ≠ b, then a and b are an amicable pair and each of a and b are called amicable numbers.\n",
    "\n",
    "For example, the proper divisors of 220 are 1, 2, 4, 5, 10, 11, 20, 22, 44, 55 and 110; therefore d(220) = 284. The proper divisors of 284 are 1, 2, 4, 71 and 142; so d(284) = 220.\n",
    "\n",
    "Evaluate the sum of all the amicable numbers under 10000.\n"
   ]
  },
  {
   "cell_type": "code",
   "execution_count": 150,
   "metadata": {},
   "outputs": [
    {
     "name": "stdout",
     "output_type": "stream",
     "text": [
      "284\n",
      "220\n",
      "31627\n",
      "0\n",
      "1\n",
      "220\n",
      "284\n",
      "1184\n",
      "1210\n",
      "2620\n",
      "2924\n",
      "5020\n",
      "5564\n",
      "6232\n",
      "6368\n",
      "31627\n"
     ]
    }
   ],
   "source": [
    "mdict = {}\n",
    "limit = 10000\n",
    "for i in range(limit): \n",
    "    mdict[i] = sum(proper_divs(i))\n",
    "    \n",
    "s = 0\n",
    "for k, v in mdict.items():\n",
    "    if k == v:\n",
    "        continue \n",
    "    if v in mdict and mdict[v] == k:\n",
    "        s += v\n",
    "        \n",
    "print(mdict[220])\n",
    "print(mdict[284])\n",
    "print(s)\n",
    "\n",
    "s1 = 0\n",
    "for n in range(10000):\n",
    "    sod = sum(proper_divs(n))\n",
    "    sodsod = sum(proper_divs(sod))\n",
    "    if sodsod == n and sod != n: \n",
    "        print(n)\n",
    "        s1 += n\n",
    "print(s1)"
   ]
  },
  {
   "cell_type": "code",
   "execution_count": 152,
   "metadata": {},
   "outputs": [
    {
     "data": {
      "text/plain": [
       "{1}"
      ]
     },
     "execution_count": 152,
     "metadata": {},
     "output_type": "execute_result"
    }
   ],
   "source": [
    "proper_divs(0)"
   ]
  },
  {
   "cell_type": "markdown",
   "metadata": {},
   "source": [
    "### Largest product in a grid\n",
    "Problem 11\n",
    "\n",
    "In the 20×20 grid below, four numbers along a diagonal line have been marked in red.\n",
    "\n",
    "08 02 22 97 38 15 00 40 00 75 04 05 07 78 52 12 50 77 91 08\n",
    "49 49 99 40 17 81 18 57 60 87 17 40 98 43 69 48 04 56 62 00\n",
    "81 49 31 73 55 79 14 29 93 71 40 67 53 88 30 03 49 13 36 65\n",
    "52 70 95 23 04 60 11 42 69 24 68 56 01 32 56 71 37 02 36 91\n",
    "22 31 16 71 51 67 63 89 41 92 36 54 22 40 40 28 66 33 13 80\n",
    "24 47 32 60 99 03 45 02 44 75 33 53 78 36 84 20 35 17 12 50\n",
    "32 98 81 28 64 23 67 10 26 38 40 67 59 54 70 66 18 38 64 70\n",
    "67 26 20 68 02 62 12 20 95 63 94 39 63 08 40 91 66 49 94 21\n",
    "24 55 58 05 66 73 99 26 97 17 78 78 96 83 14 88 34 89 63 72\n",
    "21 36 23 09 75 00 76 44 20 45 35 14 00 61 33 97 34 31 33 95\n",
    "78 17 53 28 22 75 31 67 15 94 03 80 04 62 16 14 09 53 56 92\n",
    "16 39 05 42 96 35 31 47 55 58 88 24 00 17 54 24 36 29 85 57\n",
    "86 56 00 48 35 71 89 07 05 44 44 37 44 60 21 58 51 54 17 58\n",
    "19 80 81 68 05 94 47 69 28 73 92 13 86 52 17 77 04 89 55 40\n",
    "04 52 08 83 97 35 99 16 07 97 57 32 16 26 26 79 33 27 98 66\n",
    "88 36 68 87 57 62 20 72 03 46 33 67 46 55 12 32 63 93 53 69\n",
    "04 42 16 73 38 25 39 11 24 94 72 18 08 46 29 32 40 62 76 36\n",
    "20 69 36 41 72 30 23 88 34 62 99 69 82 67 59 85 74 04 36 16\n",
    "20 73 35 29 78 31 90 01 74 31 49 71 48 86 81 16 23 57 05 54\n",
    "01 70 54 71 83 51 54 69 16 92 33 48 61 43 52 01 89 19 67 48\n",
    "\n",
    "The product of these numbers is 26 × 63 × 78 × 14 = 1788696.\n",
    "\n",
    "What is the greatest product of four adjacent numbers in the same direction (up, down, left, right, or diagonally) in the 20×20 grid?\n"
   ]
  },
  {
   "cell_type": "code",
   "execution_count": 153,
   "metadata": {},
   "outputs": [],
   "source": [
    "mt = [\n",
    "    [ 8,  2, 22, 97, 38, 15,  0, 40,  0, 75,  4,  5,  7, 78, 52, 12, 50, 77, 91,  8],\n",
    "    [49, 49, 99, 40, 17, 81, 18, 57, 60, 87, 17, 40, 98, 43, 69, 48,  4, 56, 62,  0],\n",
    "    [81, 49, 31, 73, 55, 79, 14, 29, 93, 71, 40, 67, 53, 88, 30,  3, 49, 13, 36, 65],\n",
    "    [52, 70, 95, 23,  4, 60, 11, 42, 69, 24, 68, 56,  1, 32, 56, 71, 37,  2, 36, 91],\n",
    "    [22, 31, 16, 71, 51, 67, 63, 89, 41, 92, 36, 54, 22, 40, 40, 28, 66, 33, 13, 80],\n",
    "    [24, 47, 32, 60, 99,  3, 45,  2, 44, 75, 33, 53, 78, 36, 84, 20, 35, 17, 12, 50],\n",
    "    [32, 98, 81, 28, 64, 23, 67, 10, 26, 38, 40, 67, 59, 54, 70, 66, 18, 38, 64, 70],\n",
    "    [67, 26, 20, 68,  2, 62, 12, 20, 95, 63, 94, 39, 63,  8, 40, 91, 66, 49, 94, 21],\n",
    "    [24, 55, 58,  5, 66, 73, 99, 26, 97, 17, 78, 78, 96, 83, 14, 88, 34, 89, 63, 72],\n",
    "    [21, 36, 23,  9, 75,  0, 76, 44, 20, 45, 35, 14,  0, 61, 33, 97, 34, 31, 33, 95],\n",
    "    [78, 17, 53, 28, 22, 75, 31, 67, 15, 94,  3, 80,  4, 62, 16, 14,  9, 53, 56, 92],\n",
    "    [16, 39,  5, 42, 96, 35, 31, 47, 55, 58, 88, 24,  0, 17, 54, 24, 36, 29, 85, 57],\n",
    "    [86, 56,  0, 48, 35, 71, 89,  7,  5, 44, 44, 37, 44, 60, 21, 58, 51, 54, 17, 58],\n",
    "    [19, 80, 81, 68,  5, 94, 47, 69, 28, 73, 92, 13, 86, 52, 17, 77,  4, 89, 55, 40],\n",
    "    [ 4, 52,  8, 83, 97, 35, 99, 16,  7, 97, 57, 32, 16, 26, 26, 79, 33, 27, 98, 66],\n",
    "    [88, 36, 68, 87, 57, 62, 20, 72,  3, 46, 33, 67, 46, 55, 12, 32, 63, 93, 53, 69],\n",
    "    [ 4, 42, 16, 73, 38, 25, 39, 11, 24, 94, 72, 18,  8, 46, 29, 32, 40, 62, 76, 36],\n",
    "    [20, 69, 36, 41, 72, 30, 23, 88, 34, 62, 99, 69, 82, 67, 59, 85, 74,  4, 36, 16],\n",
    "    [20, 73, 35, 29, 78, 31, 90,  1, 74, 31, 49, 71, 48, 86, 81, 16, 23, 57,  5, 54],\n",
    "    [ 1, 70, 54, 71, 83, 51, 54, 69, 16, 92, 33, 48, 61, 43, 52,  1, 89, 19, 67, 48],\n",
    "]"
   ]
  },
  {
   "cell_type": "code",
   "execution_count": 155,
   "metadata": {},
   "outputs": [
    {
     "name": "stdout",
     "output_type": "stream",
     "text": [
      "70600674\n"
     ]
    }
   ],
   "source": [
    "n = len(mt)\n",
    "max_so_far = 0\n",
    "\n",
    "for i in range(n):\n",
    "    for j in range(n):\n",
    "        right = 0\n",
    "        down = 0\n",
    "        down_right = 0\n",
    "        down_left = 0\n",
    "        \n",
    "        if j < n - 4: \n",
    "            right = mt[i][j] * mt[i][j+1] * mt[i][j+2] * mt[i][j+3]\n",
    "        if i < n - 4:\n",
    "            down = mt[i][j] * mt[i+1][j] * mt[i+2][j] * mt[i+3][j] \n",
    "        if i < n - 4 and j < n - 4:\n",
    "            down_right = mt[i][j] * mt[i+1][j+1] * mt[i+2][j+2] * mt[i+3][j+3]        \n",
    "        if i < n - 4 and j > 4:\n",
    "            down_left = mt[i][j] * mt[i+1][j-1] * mt[i+2][j-2] * mt[i+3][j-3]\n",
    "        m = max([right,down, down_right, down_left])\n",
    "        if max_so_far < m:\n",
    "            max_so_far = m\n",
    "\n",
    "print(max_so_far)\n",
    "        "
   ]
  },
  {
   "cell_type": "markdown",
   "metadata": {},
   "source": [
    "### Factorial digit sum\n",
    "Problem 20\n",
    "\n",
    "n! means n × (n − 1) × ... × 3 × 2 × 1\n",
    "\n",
    "For example, 10! = 10 × 9 × ... × 3 × 2 × 1 = 3628800,\n",
    "and the sum of the digits in the number 10! is 3 + 6 + 2 + 8 + 8 + 0 + 0 = 27.\n",
    "\n",
    "Find the sum of the digits in the number 100!\n"
   ]
  },
  {
   "cell_type": "code",
   "execution_count": null,
   "metadata": {},
   "outputs": [],
   "source": [
    "M did it"
   ]
  },
  {
   "cell_type": "markdown",
   "metadata": {},
   "source": [
    "### Problem 2"
   ]
  },
  {
   "cell_type": "code",
   "execution_count": 157,
   "metadata": {},
   "outputs": [],
   "source": [
    "import functools \n",
    "\n",
    "@functools.lru_cache(1000)\n",
    "def fib(n):\n",
    "    if n < 2:\n",
    "        return n\n",
    "    return fib(n-1) + fib(n-2)"
   ]
  },
  {
   "cell_type": "code",
   "execution_count": 160,
   "metadata": {},
   "outputs": [
    {
     "data": {
      "text/plain": [
       "1548008755920"
      ]
     },
     "execution_count": 160,
     "metadata": {},
     "output_type": "execute_result"
    }
   ],
   "source": [
    "fib(60)"
   ]
  },
  {
   "cell_type": "code",
   "execution_count": 161,
   "metadata": {},
   "outputs": [
    {
     "data": {
      "text/plain": [
       "4613732"
      ]
     },
     "execution_count": 161,
     "metadata": {},
     "output_type": "execute_result"
    }
   ],
   "source": [
    "sum(fib(n) for n in range(60) if fib(n) < 4_000_000 and fib(n) % 2 == 0)"
   ]
  },
  {
   "cell_type": "code",
   "execution_count": null,
   "metadata": {},
   "outputs": [],
   "source": []
  }
 ],
 "metadata": {
  "kernelspec": {
   "display_name": "Python 3",
   "language": "python",
   "name": "python3"
  },
  "language_info": {
   "codemirror_mode": {
    "name": "ipython",
    "version": 3
   },
   "file_extension": ".py",
   "mimetype": "text/x-python",
   "name": "python",
   "nbconvert_exporter": "python",
   "pygments_lexer": "ipython3",
   "version": "3.7.3"
  }
 },
 "nbformat": 4,
 "nbformat_minor": 2
}
