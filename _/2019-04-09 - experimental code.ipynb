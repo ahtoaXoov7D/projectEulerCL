{
 "cells": [
  {
   "cell_type": "code",
   "execution_count": 6,
   "metadata": {},
   "outputs": [],
   "source": [
    "\n",
    "# https://stackoverflow.com/a/3941967/62997\n",
    "# https://gist.github.com/mbarkhau/afad5ea4d3640d58df50251b449e49d7\n",
    "def mk_primes(limit):\n",
    "    a = [True] * limit                          # Initialize the primality list\n",
    "    a[0] = a[1] = False\n",
    "\n",
    "    for i, isprime in enumerate(a):\n",
    "        if isprime:\n",
    "            yield i\n",
    "            for n in range(i*i, limit, i):     # Mark factors non-prime\n",
    "                a[n] = False"
   ]
  },
  {
   "cell_type": "code",
   "execution_count": 7,
   "metadata": {},
   "outputs": [],
   "source": [
    "prime_list = list(mk_primes(100))\n",
    "# prime_list = list(mk_primes(10000))\n",
    "prime_set = set(prime_list)"
   ]
  },
  {
   "cell_type": "code",
   "execution_count": 8,
   "metadata": {},
   "outputs": [],
   "source": [
    "divisor_dict = {} \n",
    "def divisors0(n):\n",
    "    \n",
    "    ds = divisor_dict.get(n)\n",
    "    if ds:\n",
    "        return ds \n",
    "    \n",
    "    ds = {1, n}\n",
    "    \n",
    "    if n in prime_set:\n",
    "        return ds\n",
    "    \n",
    "    upto = n ** 0.5\n",
    "    \n",
    "    for p in prime_list:\n",
    "        if p > upto:\n",
    "            break\n",
    "        if n % p == 0:\n",
    "            ds = ds | { p } |  divisors0( n // p)\n",
    "            \n",
    "    divisor_dict[n] = ds \n",
    "    return ds"
   ]
  },
  {
   "cell_type": "code",
   "execution_count": 9,
   "metadata": {},
   "outputs": [],
   "source": [
    "def divisors1(n):\n",
    "    ds = {1, n}\n",
    "    \n",
    "    if n in prime_set:\n",
    "        return ds\n",
    "    \n",
    "    upto = n ** 0.5\n",
    "    \n",
    "    for p in prime_list:\n",
    "        if p > upto:\n",
    "            break\n",
    "        if n % p == 0:\n",
    "            ds = ds | { p, n//p } \n",
    "            \n",
    "    return ds"
   ]
  },
  {
   "cell_type": "code",
   "execution_count": 10,
   "metadata": {},
   "outputs": [
    {
     "name": "stdout",
     "output_type": "stream",
     "text": [
      "{1, 2, 3, 5, 6, 10, 15, 30}\n",
      "{1, 2, 3, 5, 6, 10, 30, 15}\n"
     ]
    }
   ],
   "source": [
    "print(divisors0(30))\n",
    "print(divisors1(30))"
   ]
  },
  {
   "cell_type": "code",
   "execution_count": null,
   "metadata": {},
   "outputs": [],
   "source": []
  }
 ],
 "metadata": {
  "kernelspec": {
   "display_name": "Python 3",
   "language": "python",
   "name": "python3"
  },
  "language_info": {
   "codemirror_mode": {
    "name": "ipython",
    "version": 3
   },
   "file_extension": ".py",
   "mimetype": "text/x-python",
   "name": "python",
   "nbconvert_exporter": "python",
   "pygments_lexer": "ipython3",
   "version": "3.7.1"
  }
 },
 "nbformat": 4,
 "nbformat_minor": 2
}
