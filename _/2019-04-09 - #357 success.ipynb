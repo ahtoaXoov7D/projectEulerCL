{
 "cells": [
  {
   "cell_type": "code",
   "execution_count": 102,
   "metadata": {},
   "outputs": [],
   "source": [
    "\n",
    "prime_list = list(mk_primes(100_000_002))\n",
    "# prime_list = list(mk_primes(10000))\n",
    "prime_set = set(prime_list)\n"
   ]
  },
  {
   "cell_type": "code",
   "execution_count": 98,
   "metadata": {},
   "outputs": [],
   "source": [
    "import functools\n",
    "\n",
    "# https://stackoverflow.com/a/3941967/62997\n",
    "# https://gist.github.com/mbarkhau/afad5ea4d3640d58df50251b449e49d7\n",
    "def mk_primes(limit):\n",
    "    a = [True] * limit                          # Initialize the primality list\n",
    "    a[0] = a[1] = False\n",
    "\n",
    "    for i, isprime in enumerate(a):\n",
    "        if isprime:\n",
    "            yield i\n",
    "            for n in range(i*i, limit, i):     # Mark factors non-prime\n",
    "                a[n] = False\n",
    "\n",
    "\n",
    "\n",
    "def divisors(n):\n",
    "    ds = {n}\n",
    "    \n",
    "    if n in prime_set:\n",
    "        return ds\n",
    "    \n",
    "    upto = 1 + int(n ** 0.5)\n",
    "    \n",
    "    for p in range(1, upto):\n",
    "        if n % p == 0:\n",
    "            ds.add(p)\n",
    "            \n",
    "    return ds"
   ]
  },
  {
   "cell_type": "code",
   "execution_count": 103,
   "metadata": {},
   "outputs": [
    {
     "name": "stdout",
     "output_type": "stream",
     "text": [
      "1739023853137\n",
      "CPU times: user 24.3 s, sys: 68.3 ms, total: 24.4 s\n",
      "Wall time: 24.5 s\n"
     ]
    }
   ],
   "source": [
    "def print_sum():\n",
    "    sum = 0 \n",
    "\n",
    "    for x in prime_list:\n",
    "        n = x - 1\n",
    "        \n",
    "        upto = 1 + int(n ** 0.5)\n",
    "        all = True \n",
    "        \n",
    "        for p in range(1, upto):\n",
    "            if n % p == 0:\n",
    "                all = all and (( p + n//p ) in prime_set)\n",
    "                \n",
    "            if not all: \n",
    "                break\n",
    "            \n",
    "        if all:\n",
    "            sum = sum + n \n",
    "\n",
    "    return sum\n",
    "\n",
    "%time print(print_sum())"
   ]
  },
  {
   "cell_type": "code",
   "execution_count": 96,
   "metadata": {},
   "outputs": [
    {
     "data": {
      "text/plain": [
       "664579"
      ]
     },
     "execution_count": 96,
     "metadata": {},
     "output_type": "execute_result"
    }
   ],
   "source": [
    "len(prime_list)"
   ]
  },
  {
   "cell_type": "code",
   "execution_count": null,
   "metadata": {},
   "outputs": [],
   "source": []
  }
 ],
 "metadata": {
  "kernelspec": {
   "display_name": "Python 3",
   "language": "python",
   "name": "python3"
  },
  "language_info": {
   "codemirror_mode": {
    "name": "ipython",
    "version": 3
   },
   "file_extension": ".py",
   "mimetype": "text/x-python",
   "name": "python",
   "nbconvert_exporter": "python",
   "pygments_lexer": "ipython3",
   "version": "3.7.1"
  }
 },
 "nbformat": 4,
 "nbformat_minor": 2
}
