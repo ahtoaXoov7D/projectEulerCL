{
 "cells": [
  {
   "cell_type": "markdown",
   "metadata": {},
   "source": [
    "**Compare performance between different implementations of MinCost : Minimum cost between stations**"
   ]
  },
  {
   "cell_type": "code",
   "execution_count": 1,
   "metadata": {
    "collapsed": true
   },
   "outputs": [],
   "source": [
    "import min_cost_between_stations_r\n",
    "import min_cost_between_stations_memoized\n",
    "import min_cost_between_stations_DP\n",
    "import min_cost_from_start_DP"
   ]
  },
  {
   "cell_type": "code",
   "execution_count": 4,
   "metadata": {
    "collapsed": true
   },
   "outputs": [],
   "source": [
    "cost =  [\n",
    "            [0, 15, 80, 90],\n",
    "            [-1, 0, 40, 50],\n",
    "            [-1, -1, 0, 70],\n",
    "            [-1, -1, -1, 0]\n",
    "        ]\n",
    "m = min_cost_between_stations_r.MinCost(cost)\n",
    "mm = min_cost_between_stations_memoized.MinCost(cost)\n",
    "mdp = min_cost_between_stations_DP.MinCost(cost)\n",
    "msdp = min_cost_from_start_DP.MinCost(cost)"
   ]
  },
  {
   "cell_type": "code",
   "execution_count": 5,
   "metadata": {},
   "outputs": [
    {
     "name": "stdout",
     "output_type": "stream",
     "text": [
      "100000 loops, best of 3: 6.56 µs per loop\n"
     ]
    }
   ],
   "source": [
    "%timeit assert m.calculate_mincost(0, 3) == 65"
   ]
  },
  {
   "cell_type": "code",
   "execution_count": 6,
   "metadata": {},
   "outputs": [
    {
     "name": "stdout",
     "output_type": "stream",
     "text": [
      "10000 loops, best of 3: 17.4 µs per loop\n"
     ]
    }
   ],
   "source": [
    "%timeit mm.generate_memoized_table()\n",
    "assert  mm.calculate_mincost_memoized(0, 3) == 65"
   ]
  },
  {
   "cell_type": "code",
   "execution_count": 7,
   "metadata": {},
   "outputs": [
    {
     "name": "stdout",
     "output_type": "stream",
     "text": [
      "10000 loops, best of 3: 21.6 µs per loop\n"
     ]
    }
   ],
   "source": [
    "%timeit mdp.generate_dp_table()\n",
    "assert  mdp.calculate_mincost_DP(0, 3) == 65"
   ]
  },
  {
   "cell_type": "code",
   "execution_count": 8,
   "metadata": {},
   "outputs": [
    {
     "name": "stdout",
     "output_type": "stream",
     "text": [
      "100000 loops, best of 3: 4.65 µs per loop\n"
     ]
    }
   ],
   "source": [
    "%timeit msdp.generate_dp_table_from_start()\n",
    "assert  msdp.calculate_mincost_from_start_DP(3) == 65"
   ]
  },
  {
   "cell_type": "code",
   "execution_count": 12,
   "metadata": {
    "collapsed": true
   },
   "outputs": [],
   "source": [
    "cost = [\n",
    "        [0, 10, 75, 94],\n",
    "        [-1, 0, 35, 50],\n",
    "        [-1, -1, 0, 80],\n",
    "        [-1, -1, -1, 0]\n",
    "       ]\n",
    "\n",
    "m = min_cost_between_stations_r.MinCost(cost)\n",
    "mm = min_cost_between_stations_memoized.MinCost(cost)\n",
    "mdp = min_cost_between_stations_DP.MinCost(cost)\n",
    "msdp = min_cost_from_start_DP.MinCost(cost)"
   ]
  },
  {
   "cell_type": "code",
   "execution_count": 13,
   "metadata": {},
   "outputs": [
    {
     "name": "stdout",
     "output_type": "stream",
     "text": [
      "100000 loops, best of 3: 6.76 µs per loop\n"
     ]
    }
   ],
   "source": [
    "%timeit assert m.calculate_mincost(0, 3) == 60"
   ]
  },
  {
   "cell_type": "code",
   "execution_count": 14,
   "metadata": {},
   "outputs": [
    {
     "name": "stdout",
     "output_type": "stream",
     "text": [
      "10000 loops, best of 3: 18.2 µs per loop\n"
     ]
    }
   ],
   "source": [
    "%timeit mm.generate_memoized_table()\n",
    "assert mm.calculate_mincost_memoized(0, 3) == 60"
   ]
  },
  {
   "cell_type": "code",
   "execution_count": 15,
   "metadata": {},
   "outputs": [
    {
     "name": "stdout",
     "output_type": "stream",
     "text": [
      "10000 loops, best of 3: 21.7 µs per loop\n"
     ]
    }
   ],
   "source": [
    "%timeit mdp.generate_dp_table()\n",
    "assert mdp.calculate_mincost_DP(0, 3) == 60"
   ]
  },
  {
   "cell_type": "code",
   "execution_count": 16,
   "metadata": {},
   "outputs": [
    {
     "name": "stdout",
     "output_type": "stream",
     "text": [
      "100000 loops, best of 3: 4.88 µs per loop\n"
     ]
    }
   ],
   "source": [
    "%timeit msdp.generate_dp_table_from_start()\n",
    "assert msdp.calculate_mincost_from_start_DP() == 60"
   ]
  }
 ],
 "metadata": {
  "kernelspec": {
   "display_name": "Python 2",
   "language": "python",
   "name": "python2"
  },
  "language_info": {
   "codemirror_mode": {
    "name": "ipython",
    "version": 2
   },
   "file_extension": ".py",
   "mimetype": "text/x-python",
   "name": "python",
   "nbconvert_exporter": "python",
   "pygments_lexer": "ipython2",
   "version": "2.7.13"
  }
 },
 "nbformat": 4,
 "nbformat_minor": 2
}
