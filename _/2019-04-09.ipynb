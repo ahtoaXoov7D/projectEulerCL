{
 "cells": [
  {
   "cell_type": "markdown",
   "metadata": {},
   "source": [
    "# Welcome to Euler Reboot\n",
    "\n",
    "---\n",
    "\n",
    "We would like to thank you all for being here. Special thanks to Manuel, who has bee handling the meetup until now.\n",
    "\n",
    "- We generally follow the pattern/format set by Manuel \n",
    "- Regarding the problems for up coming meetups, should we announce them beforehand? "
   ]
  },
  {
   "cell_type": "markdown",
   "metadata": {},
   "source": [
    "### First problem to come from the lot is 14\n",
    "\n",
    "#### Longest Collatz sequence\n",
    "\n",
    "The following iterative sequence is defined for the set of positive integers:\n",
    "\n",
    "n → n/2 (n is even)\n",
    "n → 3n + 1 (n is odd)\n",
    "\n",
    "Using the rule above and starting with 13, we generate the following sequence:\n",
    "13 → 40 → 20 → 10 → 5 → 16 → 8 → 4 → 2 → 1\n",
    "\n",
    "It can be seen that this sequence (starting at 13 and finishing at 1) contains 10 terms. Although it has not been proved yet (Collatz Problem), it is thought that all starting numbers finish at 1.\n",
    "\n",
    "Which starting number, under one million, produces the longest chain?\n",
    "\n",
    "NOTE: Once the chain starts the terms are allowed to go above one million.\n"
   ]
  },
  {
   "cell_type": "code",
   "execution_count": 2,
   "metadata": {},
   "outputs": [
    {
     "name": "stdout",
     "output_type": "stream",
     "text": [
      "CPU times: user 17.7 s, sys: 417 ms, total: 18.1 s\n",
      "Wall time: 18.2 s\n"
     ]
    },
    {
     "data": {
      "text/plain": [
       "(525, 837799)"
      ]
     },
     "execution_count": 2,
     "metadata": {},
     "output_type": "execute_result"
    }
   ],
   "source": [
    "import functools\n",
    "\n",
    "@functools.lru_cache(maxsize=1000000)\n",
    "def collatz_sequence(n):\n",
    "    count = 1\n",
    "    while n != 1:\n",
    "        count = count + 1\n",
    "        if n % 2: \n",
    "            n = 3 * n + 1\n",
    "        else: \n",
    "            n = n//2 \n",
    "    return count \n",
    "\n",
    "%time ( max ( [(collatz_sequence(i), i) for i in range(1, 1000000)] ))"
   ]
  },
  {
   "cell_type": "markdown",
   "metadata": {},
   "source": [
    "### The next problem was 357\n",
    "\n",
    "\n",
    "#### Prime generating integers\n",
    "\n",
    "Consider the divisors of 30: 1,2,3,5,6,10,15,30.\n",
    "It can be seen that for every divisor d of 30, d+30/d is prime.\n",
    "\n",
    "Find the sum of all positive integers n not exceeding 100 000 000\n",
    "such that for every divisor d of n, d+n/d is prime.\n"
   ]
  },
  {
   "cell_type": "code",
   "execution_count": 2,
   "metadata": {},
   "outputs": [],
   "source": [
    "# https://stackoverflow.com/a/3941967/62997\n",
    "# https://gist.github.com/mbarkhau/afad5ea4d3640d58df50251b449e49d7\n",
    "def mk_primes(limit):\n",
    "    a = [True] * limit                          # Initialize the primality list\n",
    "    a[0] = a[1] = False\n",
    "\n",
    "    for i, isprime in enumerate(a):\n",
    "        if isprime:\n",
    "            yield i\n",
    "            for n in range(i*i, limit, i):     # Mark factors non-prime\n",
    "                a[n] = False"
   ]
  },
  {
   "cell_type": "code",
   "execution_count": 3,
   "metadata": {},
   "outputs": [],
   "source": [
    "prime_list = list(mk_primes(100_000_002))\n",
    "prime_set = set(prime_list)"
   ]
  },
  {
   "cell_type": "code",
   "execution_count": 7,
   "metadata": {},
   "outputs": [
    {
     "data": {
      "text/plain": [
       "5761455"
      ]
     },
     "execution_count": 7,
     "metadata": {},
     "output_type": "execute_result"
    }
   ],
   "source": [
    "    @functools.lru_cache(maxsize=100_000_010)\n",
    "    def divisors(n):\n",
    "        ds = {1, n}\n",
    "\n",
    "        if n in prime_set:\n",
    "            return ds\n",
    "\n",
    "        upto = n ** 0.5\n",
    "\n",
    "        for p in prime_list:\n",
    "            if p > upto:\n",
    "                break\n",
    "            if n % p == 0:\n",
    "                ds = ds | { p } |  divisors( n // p)\n",
    "        return ds\n",
    "\n",
    "divisors(30)\n",
    "len(prime_list)"
   ]
  },
  {
   "cell_type": "code",
   "execution_count": 105,
   "metadata": {},
   "outputs": [
    {
     "ename": "KeyboardInterrupt",
     "evalue": "",
     "output_type": "error",
     "traceback": [
      "\u001b[0;31m---------------------------------------------------------------------------\u001b[0m",
      "\u001b[0;31mKeyboardInterrupt\u001b[0m                         Traceback (most recent call last)",
      "\u001b[0;32m<ipython-input-105-0363adf06916>\u001b[0m in \u001b[0;36m<module>\u001b[0;34m\u001b[0m\n\u001b[1;32m      8\u001b[0m \u001b[0;34m\u001b[0m\u001b[0m\n\u001b[1;32m      9\u001b[0m \u001b[0;34m\u001b[0m\u001b[0m\n\u001b[0;32m---> 10\u001b[0;31m     \u001b[0;32mfor\u001b[0m \u001b[0mp\u001b[0m \u001b[0;32min\u001b[0m \u001b[0mdivisors\u001b[0m\u001b[0;34m(\u001b[0m\u001b[0mn\u001b[0m\u001b[0;34m)\u001b[0m\u001b[0;34m:\u001b[0m\u001b[0;34m\u001b[0m\u001b[0;34m\u001b[0m\u001b[0m\n\u001b[0m\u001b[1;32m     11\u001b[0m         \u001b[0mis_prime_generator\u001b[0m \u001b[0;34m=\u001b[0m \u001b[0mis_prime_generator\u001b[0m \u001b[0;32mand\u001b[0m \u001b[0;34m(\u001b[0m \u001b[0mp\u001b[0m \u001b[0;34m+\u001b[0m \u001b[0mn\u001b[0m\u001b[0;34m//\u001b[0m\u001b[0mp\u001b[0m \u001b[0;34m)\u001b[0m \u001b[0;32min\u001b[0m \u001b[0mprime_set\u001b[0m\u001b[0;34m\u001b[0m\u001b[0;34m\u001b[0m\u001b[0m\n\u001b[1;32m     12\u001b[0m         \u001b[0;32mif\u001b[0m \u001b[0;32mnot\u001b[0m \u001b[0mis_prime_generator\u001b[0m\u001b[0;34m:\u001b[0m\u001b[0;34m\u001b[0m\u001b[0;34m\u001b[0m\u001b[0m\n",
      "\u001b[0;32m<ipython-input-104-008ec05a4010>\u001b[0m in \u001b[0;36mdivisors\u001b[0;34m(n)\u001b[0m\n\u001b[1;32m     12\u001b[0m             \u001b[0;32mbreak\u001b[0m\u001b[0;34m\u001b[0m\u001b[0;34m\u001b[0m\u001b[0m\n\u001b[1;32m     13\u001b[0m         \u001b[0;32mif\u001b[0m \u001b[0mn\u001b[0m \u001b[0;34m%\u001b[0m \u001b[0mp\u001b[0m \u001b[0;34m==\u001b[0m \u001b[0;36m0\u001b[0m\u001b[0;34m:\u001b[0m\u001b[0;34m\u001b[0m\u001b[0;34m\u001b[0m\u001b[0m\n\u001b[0;32m---> 14\u001b[0;31m             \u001b[0mds\u001b[0m \u001b[0;34m=\u001b[0m \u001b[0mds\u001b[0m \u001b[0;34m|\u001b[0m \u001b[0;34m{\u001b[0m \u001b[0mp\u001b[0m \u001b[0;34m}\u001b[0m \u001b[0;34m|\u001b[0m  \u001b[0mdivisors\u001b[0m\u001b[0;34m(\u001b[0m \u001b[0mn\u001b[0m \u001b[0;34m//\u001b[0m \u001b[0mp\u001b[0m\u001b[0;34m)\u001b[0m\u001b[0;34m\u001b[0m\u001b[0;34m\u001b[0m\u001b[0m\n\u001b[0m\u001b[1;32m     15\u001b[0m     \u001b[0;32mreturn\u001b[0m \u001b[0mds\u001b[0m\u001b[0;34m\u001b[0m\u001b[0;34m\u001b[0m\u001b[0m\n\u001b[1;32m     16\u001b[0m \u001b[0;34m\u001b[0m\u001b[0m\n",
      "\u001b[0;32m<ipython-input-104-008ec05a4010>\u001b[0m in \u001b[0;36mdivisors\u001b[0;34m(n)\u001b[0m\n\u001b[1;32m     11\u001b[0m         \u001b[0;32mif\u001b[0m \u001b[0mp\u001b[0m \u001b[0;34m>\u001b[0m \u001b[0mupto\u001b[0m\u001b[0;34m:\u001b[0m\u001b[0;34m\u001b[0m\u001b[0;34m\u001b[0m\u001b[0m\n\u001b[1;32m     12\u001b[0m             \u001b[0;32mbreak\u001b[0m\u001b[0;34m\u001b[0m\u001b[0;34m\u001b[0m\u001b[0m\n\u001b[0;32m---> 13\u001b[0;31m         \u001b[0;32mif\u001b[0m \u001b[0mn\u001b[0m \u001b[0;34m%\u001b[0m \u001b[0mp\u001b[0m \u001b[0;34m==\u001b[0m \u001b[0;36m0\u001b[0m\u001b[0;34m:\u001b[0m\u001b[0;34m\u001b[0m\u001b[0;34m\u001b[0m\u001b[0m\n\u001b[0m\u001b[1;32m     14\u001b[0m             \u001b[0mds\u001b[0m \u001b[0;34m=\u001b[0m \u001b[0mds\u001b[0m \u001b[0;34m|\u001b[0m \u001b[0;34m{\u001b[0m \u001b[0mp\u001b[0m \u001b[0;34m}\u001b[0m \u001b[0;34m|\u001b[0m  \u001b[0mdivisors\u001b[0m\u001b[0;34m(\u001b[0m \u001b[0mn\u001b[0m \u001b[0;34m//\u001b[0m \u001b[0mp\u001b[0m\u001b[0;34m)\u001b[0m\u001b[0;34m\u001b[0m\u001b[0;34m\u001b[0m\u001b[0m\n\u001b[1;32m     15\u001b[0m     \u001b[0;32mreturn\u001b[0m \u001b[0mds\u001b[0m\u001b[0;34m\u001b[0m\u001b[0;34m\u001b[0m\u001b[0m\n",
      "\u001b[0;31mKeyboardInterrupt\u001b[0m: "
     ]
    }
   ],
   "source": [
    "sum = 0 \n",
    "divisor_list = [1] + prime_list\n",
    "\n",
    "for n in range(2, 100_000_002, 2):\n",
    "    if ((n+1) not in prime_set):\n",
    "        continue \n",
    "    is_prime_generator = True\n",
    "    \n",
    "    \n",
    "    for p in divisors(n):\n",
    "        is_prime_generator = is_prime_generator and ( p + n//p ) in prime_set\n",
    "        if not is_prime_generator:\n",
    "            break \n",
    "    if (is_prime_generator):\n",
    "        # print (n)\n",
    "        sum = sum + n\n",
    "\n",
    "print (sum)"
   ]
  },
  {
   "cell_type": "code",
   "execution_count": null,
   "metadata": {},
   "outputs": [],
   "source": [
    "sum = 0 \n",
    "\n",
    "for n in prime_list:\n",
    "    if all((( p + (n - 1)//p ) in prime_set) for p in divisors(n - 1)):\n",
    "        sum = sum + n - 1\n",
    "\n",
    "print (sum)"
   ]
  },
  {
   "cell_type": "markdown",
   "metadata": {},
   "source": [
    "As this did not work, we tried differently here: https://github.com/sillyfellow/euler-group-ffm/blob/master/2019-04-09%20-%20%23357%20success.ipynb \n",
    "\n",
    "And it worked :)"
   ]
  }
 ],
 "metadata": {
  "kernelspec": {
   "display_name": "Python 3",
   "language": "python",
   "name": "python3"
  },
  "language_info": {
   "codemirror_mode": {
    "name": "ipython",
    "version": 3
   },
   "file_extension": ".py",
   "mimetype": "text/x-python",
   "name": "python",
   "nbconvert_exporter": "python",
   "pygments_lexer": "ipython3",
   "version": "3.7.1"
  }
 },
 "nbformat": 4,
 "nbformat_minor": 2
}
