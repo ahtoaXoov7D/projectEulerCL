{
 "metadata": {
  "name": "",
  "signature": "sha256:be3a379f8084bedcbcdb2696ba4ff48bab7f07664a1ae718fa8f8e42306061b0"
 },
 "nbformat": 3,
 "nbformat_minor": 0,
 "worksheets": [
  {
   "cells": [
    {
     "cell_type": "markdown",
     "metadata": {},
     "source": [
      "# Queue using Two Stacks"
     ]
    },
    {
     "cell_type": "code",
     "collapsed": false,
     "input": [
      "import collections\n",
      "\n",
      "\n",
      "class MyQueue(object):\n",
      "    \"\"\"Implement a Queue using two stacks.\n",
      "    \n",
      "    pop() / insert() on regular lists is O(n), because in Python lists are continguous\n",
      "    arrays that need resizing. Instead use collections.deque, which supports O(1)\n",
      "    append() (to right) and pop() (from right). See:\n",
      "    http://docs.python.org/2/library/collections.html#collections.deque\n",
      "    \"\"\"    \n",
      "    \n",
      "    def __init__(self, stack_implementation=collections.deque):\n",
      "        self.stack1 = stack_implementation()\n",
      "        self.stack2 = stack_implementation()\n",
      "    \n",
      "    def enqueue(self, item):\n",
      "        self.stack1.append(item)\n",
      "    \n",
      "    def dequeue(self):\n",
      "        if len(self.stack2) != 0:\n",
      "            return self.stack2.pop()\n",
      "        while len(self.stack1) != 0:\n",
      "            self.stack2.append(self.stack1.pop())\n",
      "        return self.stack2.pop()   "
     ],
     "language": "python",
     "metadata": {},
     "outputs": [],
     "prompt_number": 1
    },
    {
     "cell_type": "markdown",
     "metadata": {},
     "source": [
      "## Tests"
     ]
    },
    {
     "cell_type": "code",
     "collapsed": false,
     "input": [
      "import unittest\n",
      "\n",
      "class MyQueueTests(unittest.TestCase):\n",
      "    \n",
      "    def setUp(self):\n",
      "        self.q = MyQueue()\n",
      "        self.q2 = MyQueue(list)\n",
      "        \n",
      "    def test_single_op(self):\n",
      "        self.q.enqueue(1)\n",
      "        self.assertEqual(self.q.dequeue(), 1)\n",
      "    \n",
      "    def test_five_serial_ops(self):\n",
      "        sequence = [1, 2, 3, 4, 5]\n",
      "        for x in sequence:\n",
      "            self.q.enqueue(x)\n",
      "        for x in sequence:\n",
      "            self.assertEqual(self.q.dequeue(), x)\n",
      "    \n",
      "    def test_five_interleaved_ops(self):\n",
      "        self.q.enqueue(1)\n",
      "        self.q.enqueue(2)\n",
      "        self.q.enqueue(3)\n",
      "        self.assertEqual(self.q.dequeue(), 1)\n",
      "        self.assertEqual(self.q.dequeue(), 2)\n",
      "        self.q.enqueue(4)\n",
      "        self.q.enqueue(5)\n",
      "        self.assertEqual(self.q.dequeue(), 3)\n",
      "        self.assertEqual(self.q.dequeue(), 4)\n",
      "        self.assertEqual(self.q.dequeue(), 5)\n",
      "    \n",
      "    def test_list_implementation(self):\n",
      "        self.q2.enqueue(1)\n",
      "        self.assertEqual(self.q2.dequeue(), 1)"
     ],
     "language": "python",
     "metadata": {},
     "outputs": [],
     "prompt_number": 2
    },
    {
     "cell_type": "code",
     "collapsed": false,
     "input": [
      "suite = unittest.defaultTestLoader.loadTestsFromTestCase(MyQueueTests)\n",
      "unittest.TextTestRunner().run(suite)"
     ],
     "language": "python",
     "metadata": {},
     "outputs": [
      {
       "output_type": "stream",
       "stream": "stderr",
       "text": [
        "."
       ]
      },
      {
       "output_type": "stream",
       "stream": "stderr",
       "text": [
        "."
       ]
      },
      {
       "output_type": "stream",
       "stream": "stderr",
       "text": [
        "."
       ]
      },
      {
       "output_type": "stream",
       "stream": "stderr",
       "text": [
        "."
       ]
      },
      {
       "output_type": "stream",
       "stream": "stderr",
       "text": [
        "\n",
        "----------------------------------------------------------------------\n",
        "Ran 4 tests in 0.003s\n",
        "\n",
        "OK\n"
       ]
      },
      {
       "metadata": {},
       "output_type": "pyout",
       "prompt_number": 3,
       "text": [
        "<unittest.runner.TextTestResult run=4 errors=0 failures=0>"
       ]
      }
     ],
     "prompt_number": 3
    },
    {
     "cell_type": "markdown",
     "metadata": {},
     "source": [
      "## Performance of `list` vs. `collections.deque`"
     ]
    },
    {
     "cell_type": "code",
     "collapsed": false,
     "input": [
      "def work_to_do(q):\n",
      "    q.enqueue(1)\n",
      "    q.enqueue(2)\n",
      "    q.enqueue(3)\n",
      "    q.enqueue(4)\n",
      "    q.enqueue(5)\n",
      "    q.enqueue(6)\n",
      "    q.enqueue(7)\n",
      "    q.dequeue()\n",
      "    q.dequeue()\n",
      "    q.dequeue()\n",
      "    q.enqueue(4)\n",
      "    q.enqueue(5)\n",
      "    q.dequeue()\n",
      "    q.dequeue()\n",
      "    q.dequeue()\n",
      "    q.dequeue()\n",
      "    q.dequeue()\n",
      "    q.dequeue()\n",
      "\n",
      "print(\"Performance of collections.deque() implementation...\")\n",
      "%timeit work_to_do(MyQueue())\n",
      "print(\"Performance of list() implementation...\")\n",
      "%timeit work_to_do(MyQueue(list))"
     ],
     "language": "python",
     "metadata": {},
     "outputs": [
      {
       "output_type": "stream",
       "stream": "stdout",
       "text": [
        "Performance of collections.deque() implementation...\n",
        "100000 loops, best of 3: 15.6 \u00b5s per loop"
       ]
      },
      {
       "output_type": "stream",
       "stream": "stdout",
       "text": [
        "\n",
        "Performance of list() implementation...\n",
        "100000 loops, best of 3: 17.2 \u00b5s per loop"
       ]
      },
      {
       "output_type": "stream",
       "stream": "stdout",
       "text": [
        "\n"
       ]
      }
     ],
     "prompt_number": 8
    },
    {
     "cell_type": "markdown",
     "metadata": {},
     "source": [
      "## Approximate time complexity"
     ]
    },
    {
     "cell_type": "code",
     "collapsed": false,
     "input": [
      "import time\n",
      "\n",
      "import pandas as pd\n",
      "import numpy as np\n",
      "import matplotlib.pyplot as plt\n",
      "%matplotlib inline\n",
      "\n",
      "\n",
      "def work_to_do(q, size, reps=5):\n",
      "    results = []\n",
      "    for i in xrange(reps):\n",
      "        start = time.time()\n",
      "        for i in xrange(size):\n",
      "            q.enqueue(i)\n",
      "        for i in xrange(size):\n",
      "            q.dequeue()\n",
      "        results.append(time.time() - start)\n",
      "    return np.median(results)\n",
      "\n",
      "xs = np.linspace(1, 500000, num=5).astype(np.int64)\n",
      "ys = map(lambda x: work_to_do(MyQueue(), x), xs)\n",
      "plt.title(\"Total number of serial enqueue() then dequeue() vs. total time\")\n",
      "plt.xlabel(\"Total number of serial enqueue() then dequeue() operations\")\n",
      "plt.ylabel(\"Total time required (seconds)\")\n",
      "plt.plot(xs, ys)"
     ],
     "language": "python",
     "metadata": {},
     "outputs": [
      {
       "metadata": {},
       "output_type": "pyout",
       "prompt_number": 9,
       "text": [
        "[<matplotlib.lines.Line2D at 0x28bf990>]"
       ]
      },
      {
       "metadata": {},
       "output_type": "display_data",
       "png": "[encoded data removed]",
       "text": [
        "<matplotlib.figure.Figure at 0x28c4650>"
       ]
      }
     ],
     "prompt_number": 9
    },
    {
     "cell_type": "code",
     "collapsed": false,
     "input": [
      "from IPython.core.display import HTML\n",
      "def css_styling():\n",
      "    styles = open(\"custom.css\", \"r\").read()\n",
      "    return HTML(styles)\n",
      "css_styling()"
     ],
     "language": "python",
     "metadata": {},
     "outputs": [
      {
       "html": [
        "<style>\n",
        "    @font-face {\n",
        "      font-family: 'Noticia Text';\n",
        "      font-style: normal;\n",
        "      font-weight: 400;\n",
        "      src: local('Noticia Text'), local('NoticiaText-Regular'), url(http://themes.googleusercontent.com/static/fonts/noticiatext/v4/wdyV6x3eKpdeUPQ7BJ5uUBa1RVmPjeKy21_GQJaLlJI.woff) format('woff');\n",
        "    }\n",
        "    @font-face {\n",
        "      font-family: 'Noticia Text';\n",
        "      font-style: normal;\n",
        "      font-weight: 700;\n",
        "      src: local('Noticia Text Bold'), local('NoticiaText-Bold'), url(http://themes.googleusercontent.com/static/fonts/noticiatext/v4/pEko-RqEtp45bE2P80AAKRGYIVA-f1n-gQW6IKoy_-M.woff) format('woff');\n",
        "    }\n",
        "    @font-face {\n",
        "      font-family: 'Noticia Text';\n",
        "      font-style: italic;\n",
        "      font-weight: 400;\n",
        "      src: local('Noticia Text Italic'), local('NoticiaText-Italic'), url(http://themes.googleusercontent.com/static/fonts/noticiatext/v4/dAuxVpkYE_Q_IwIm6elsKISNse2zJAGBOX1vGC0HDBk.woff) format('woff');\n",
        "    }\n",
        "    @font-face {\n",
        "      font-family: 'Noticia Text';\n",
        "      font-style: italic;\n",
        "      font-weight: 700;\n",
        "      src: local('Noticia Text Bold Italic'), local('NoticiaText-BoldItalic'), url(http://themes.googleusercontent.com/static/fonts/noticiatext/v4/-rQ7V8ARjf28_b7kRa0Jusr_TVbVq9Kr5jxArfkA4r0.woff) format('woff');\n",
        "    }\n",
        "    @font-face {\n",
        "      font-family: 'Source Sans Pro';\n",
        "      font-style: normal;\n",
        "      font-weight: 400;\n",
        "      src: local('Source Sans Pro'), local('SourceSansPro-Regular'), url(http://themes.googleusercontent.com/static/fonts/sourcesanspro/v7/ODelI1aHBYDBqgeIAH2zlBBHWFfxJXS04xYOz0jw624.woff) format('woff');\n",
        "    }\n",
        "    @font-face {\n",
        "      font-family: 'Source Sans Pro';\n",
        "      font-style: normal;\n",
        "      font-weight: 700;\n",
        "      src: local('Source Sans Pro Bold'), local('SourceSansPro-Bold'), url(http://themes.googleusercontent.com/static/fonts/sourcesanspro/v7/toadOcfmlt9b38dHJxOBGAE-U1AYRUXXE0Dth8uKIE0.woff) format('woff');\n",
        "    }\n",
        "    @font-face {\n",
        "      font-family: 'Source Sans Pro';\n",
        "      font-style: italic;\n",
        "      font-weight: 400;\n",
        "      src: local('Source Sans Pro Italic'), local('SourceSansPro-It'), url(http://themes.googleusercontent.com/static/fonts/sourcesanspro/v7/M2Jd71oPJhLKp0zdtTvoM1xDqsnd7zNt-b9r25av6rY.woff) format('woff');\n",
        "    }\n",
        "    @font-face {\n",
        "      font-family: 'Source Sans Pro';\n",
        "      font-style: italic;\n",
        "      font-weight: 700;\n",
        "      src: local('Source Sans Pro Bold Italic'), local('SourceSansPro-BoldIt'), url(http://themes.googleusercontent.com/static/fonts/sourcesanspro/v7/fpTVHK8qsXbIeTHTrnQH6L7TcrrtjxQtUk4wnkGIFYE.woff) format('woff');\n",
        "    }\n",
        "\n",
        "    div.cell{\n",
        "        width: 80%;\n",
        "/*        margin-left:auto;*/\n",
        "/*        margin-right:auto;*/\n",
        "    }\n",
        "\n",
        "    .rendered_html p, .rendered_html li {\n",
        "        font-family: 'Noticia Text', Verdana, sans-serif;\n",
        "        line-height: 1.6em;\n",
        "        /*max-width: 840px;*/\n",
        "        text-align: left;\n",
        "    }\n",
        "\n",
        "    .rendered_html h1, .rendered_html h2, .rendered_html h3, .rendered_html h4, .rendered_html h5, .rendered_html h6 {\n",
        "        margin-bottom: 0.5em;\n",
        "    }\n",
        "\n",
        "    h1, h2, h3, h4, h5, h6  {\n",
        "        font-family: 'Source Sans Pro', Verdana, sans-serif;\n",
        "        font-style: normal;\n",
        "        font-weight: 400;\n",
        "        border-bottom: 1px dotted black;\n",
        "    }\n",
        "\n",
        "    div.prompt, pre {\n",
        "        font-family: 'Inconsolata', monospace;\n",
        "        padding: 0.4em;\n",
        "    }\n",
        "\n",
        "    .warning{\n",
        "        color: rgb( 240, 20, 20 )\n",
        "        }\n",
        "</style>\n",
        "<script>\n",
        "    MathJax.Hub.Config({\n",
        "                        TeX: {\n",
        "                           extensions: [\"AMSmath.js\"]\n",
        "                           },\n",
        "                tex2jax: {\n",
        "                    inlineMath: [ ['$','$'], [\"\\\\(\",\"\\\\)\"] ],\n",
        "                    displayMath: [ ['$$','$$'], [\"\\\\[\",\"\\\\]\"] ]\n",
        "                },\n",
        "                displayAlign: 'center', // Change this to 'center' to center equations.\n",
        "                \"HTML-CSS\": {\n",
        "                    styles: {'.MathJax_Display': {\"margin\": 4}}\n",
        "                }\n",
        "        });\n",
        "</script>\n"
       ],
       "metadata": {},
       "output_type": "pyout",
       "prompt_number": 10,
       "text": [
        "<IPython.core.display.HTML at 0x1779bd0>"
       ]
      }
     ],
     "prompt_number": 10
    },
    {
     "cell_type": "code",
     "collapsed": false,
     "input": [
      "%autosave 10"
     ],
     "language": "python",
     "metadata": {},
     "outputs": [
      {
       "javascript": [
        "IPython.notebook.set_autosave_interval(10000)"
       ],
       "metadata": {},
       "output_type": "display_data"
      },
      {
       "output_type": "stream",
       "stream": "stdout",
       "text": [
        "Autosaving every 10 seconds\n"
       ]
      }
     ],
     "prompt_number": 11
    }
   ],
   "metadata": {}
  }
 ]
}